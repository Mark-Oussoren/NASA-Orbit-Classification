{
 "cells": [
  {
   "cell_type": "code",
   "execution_count": null,
   "id": "569df8b2",
   "metadata": {},
   "outputs": [],
   "source": [
    "import matplotlib.pyplot as plt\n",
    "import numpy as np\n",
    "import pandas as pd\n",
    "import seaborn as sns\n",
    "\n"
   ]
  },
  {
   "cell_type": "markdown",
   "id": "074213c9",
   "metadata": {},
   "source": [
    "# NASA Orbit Classification Exploratory Data Analysis\n",
    "\n",
    "This notebook is dedicated to understanding the data better to make relevant transformations and judgement calls in regards to cleaning the data properly."
   ]
  },
  {
   "cell_type": "code",
   "execution_count": null,
   "id": "1ccc9f38",
   "metadata": {},
   "outputs": [],
   "source": []
  }
 ],
 "metadata": {
  "kernelspec": {
   "display_name": "Python 3 (ipykernel)",
   "language": "python",
   "name": "python3"
  },
  "language_info": {
   "codemirror_mode": {
    "name": "ipython",
    "version": 3
   },
   "file_extension": ".py",
   "mimetype": "text/x-python",
   "name": "python",
   "nbconvert_exporter": "python",
   "pygments_lexer": "ipython3",
   "version": "3.9.6"
  }
 },
 "nbformat": 4,
 "nbformat_minor": 5
}
